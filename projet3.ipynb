{
 "cells": [
  {
   "cell_type": "markdown",
   "metadata": {},
   "source": [
    "# Projet maison n° 3"
   ]
  },
  {
   "cell_type": "code",
   "execution_count": 1,
   "metadata": {},
   "outputs": [],
   "source": [
    "# imports\n",
    "import pandas as pd\n",
    "import numpy as np"
   ]
  },
  {
   "cell_type": "markdown",
   "metadata": {},
   "source": [
    "## 1. US baby names\n",
    "\n",
    "On va s'intéresser au dataset **National data** de la SSA : https://www.ssa.gov/oact/babynames/limits.html\n",
    "\n",
    "1. Télécharger le dataset des prénoms US : https://www.ssa.gov/oact/babynames/names.zip\n",
    "\n",
    "Lire la documentation associée.\n",
    "\n",
    "2. Implémenter une fonction Python `df_names_us()` qui produit un unique DataFrame avec tous les fichiers en utilisant **pandas** (par ex. avec la fonction `pandas.concat()`), pas de bash :)\n",
    "\n",
    "Ordre et noms des colonnes du DataFrame : \"year\", \"name\", \"gender\", \"births\"\n",
    "\n",
    "Le DataFrame doit être trié selon l'année croissante puis selon l'ordre défini dans les différents fichiers (voir la documentation du dataset)."
   ]
  },
  {
   "cell_type": "code",
   "execution_count": 109,
   "metadata": {},
   "outputs": [],
   "source": [
    "# names us\n",
    "def df_names_us():\n",
    "    path = \"us_data/\"\n",
    "    filenames = []\n",
    "    for i in range(2021-1879):\n",
    "        filenames.append(path + \"yob\" + str(1880 + i) + \".txt\")\n",
    "    single_dfs = []\n",
    "    i = 0\n",
    "    for filename in filenames:\n",
    "        colnames=['name', 'gender', 'births'] \n",
    "        df = pd.read_csv(filename, names=colnames, header=None)\n",
    "        #year = (1880 + i) * np.ones(df.shape[0])\n",
    "        df.insert(loc = 0, column = \"year\", value = (1880 + i))\n",
    "        single_dfs.append(df)\n",
    "        i += 1\n",
    "    #df = pd.DataFrame()\n",
    "    big_df = pd.concat(single_dfs, ignore_index=True)\n",
    "    return big_df"
   ]
  },
  {
   "cell_type": "markdown",
   "metadata": {},
   "source": [
    "## 2. Prénoms français"
   ]
  },
  {
   "cell_type": "markdown",
   "metadata": {},
   "source": [
    "On va s'intéresser au dataset **Fichiers France hors Mayotte** de l'INSEE :  https://www.insee.fr/fr/statistiques/2540004/\n",
    "\n",
    "L'idée est de charger les données et ensuite de les conformer au DataFrame des prénoms US. Ainsi, toute manipulation sur le DataFrame des prénoms US pourra être directement réutilisée avec le DataFrame des prénoms français.\n",
    " \n",
    "1. Télécharger le dataset des prénoms français : https://www.insee.fr/fr/statistiques/fichier/2540004/nat2021_csv.zip\n",
    "\n",
    "\n",
    "Lire la documentation, ça peut être utile...\n",
    " \n",
    "2. Implémenter une fonction `df_names_fr()` qui produit un DataFrame avec les prénoms français en prenant le DataFrame des prénoms US comme modèle :\n",
    " \n",
    " - Même ordre et mêmes noms des colonnes : \"year\", \"name\", \"gender\", \"births\"\n",
    " - Mêmes dtypes pour les colonnes\n",
    " - Mêmes valeurs pour la colonne \"gender\"\n",
    " - Seuls les prénoms de 2 caractères et plus sont conservés\n",
    " - La casse des prénoms doit être identique : initiales en majuscule, autres lettres en minuscule\n",
    " - Les lignes avec des données inutilisables doivent être supprimées\n",
    " - Les données sont triées à l'identique : year (↑), puis gender (↑), puis births (↓) et enfin name (↑)\n",
    " - L'index du DataFrame doit aller de 0 à N-1"
   ]
  },
  {
   "cell_type": "code",
   "execution_count": 110,
   "metadata": {},
   "outputs": [],
   "source": [
    "# names fr\n",
    "def df_names_fr():\n",
    "    df = pd.read_csv(\"fr_data/nat2021.csv\",sep=';')\n",
    "    df['sexe'] = df['sexe'].apply(lambda x: 'M' if (x==1) else 'F')\n",
    "    df = df[['annais', 'preusuel', 'sexe', 'nombre']]\n",
    "    df = df.rename(columns={\"annais\": \"year\", \"preusuel\": \"name\", \"sexe\":\"gender\", \"nombre\":\"births\"})\n",
    "    df = df.sort_values(by = ['year', 'gender', 'births', 'name'], ascending=[True, True, False, True])\n",
    "    df = df[df['year'] != 'XXXX']\n",
    "    df = df[df['name'] != '_PRENOMS_RARES']\n",
    "    df = df[df['name'].apply(lambda x: len(str(x)) > 1)]\n",
    "    df = df[df['name'].apply(lambda x: (isinstance(x,str)))]\n",
    "    df['name'] = df['name'].apply(lambda x: x.capitalize())\n",
    "    df['name'] = df['name'].str.replace('-','')\n",
    "    df = df.reset_index()\n",
    "    df = df.drop(columns=['index'])\n",
    "    return df"
   ]
  },
  {
   "cell_type": "markdown",
   "metadata": {},
   "source": [
    "## 3. Taux de change\n",
    "\n",
    "On va s'intéresser au dataset des cours des devises de la Banque de France :  http://webstat.banque-france.fr/fr/browseBox.do?node=5385566\n",
    "\n",
    "Les données sont dans le fichier \"Webstat_Export.csv\".\n",
    "\n",
    "L'idée est de charger les données, de les nettoyer et de pouvoir accéder aux cours de certaines devises à partir de leur code ISO3. On retiendra uniquement les colonnes se terminant effectivement par un code ISO3 entre parenthèses. Par ex., \"Dollar des Etats-Unis (USD)\".\n",
    "\n",
    "Implémenter une fonction `df_taux_change()` qui produit un DataFrame avec les taux de change par date pour une liste de codes ISO3 de devises passée en argument. L'index du DataFrame doit correspondre aux dates (voir la fonction `pd.to_datetime()` avec le format`\"%d/%m/%Y\"`) et doit être trié par ordre croissant. Les colonnes du DataFrame doivent correspondre aux devises sélectionnées."
   ]
  },
  {
   "cell_type": "markdown",
   "metadata": {},
   "source": [
    "# taux de change"
   ]
  },
  {
   "cell_type": "code",
   "execution_count": 111,
   "metadata": {},
   "outputs": [],
   "source": [
    "def df_taux_change(devises):\n",
    "    df = pd.read_csv(\"Webstat_Export.csv\",sep=';')\n",
    "    df = df.drop([0,1, 2, 3, 4])\n",
    "    df = df.rename(columns={\"Titre :\": \"Date\"})\n",
    "    df2 = df\n",
    "    for column_name , series in df2.iteritems():\n",
    "        if any(s in column_name for s in devises):\n",
    "            df = df.rename(columns={column_name: column_name[-4:-1]})\n",
    "        else:\n",
    "            if (column_name != \"Date\"):\n",
    "                df = df.drop(columns=[column_name])\n",
    "    #df[\"Date\"] = df[\"Date\"].to_datetime(format=\"%d/%m/%Y\")\n",
    "    df[\"Date\"] = pd.to_datetime(df[\"Date\"], format=\"%d/%m/%Y\")  \n",
    "    df = df.sort_values(by = [\"Date\"], ascending=[True])\n",
    "    df = df.set_index(\"Date\")\n",
    "    for column_name , series in df.iteritems():\n",
    "        df = df[df[column_name] != '-']\n",
    "        #df = df[column_name].apply(lambda x: float(x.replace(',','.')))\n",
    "    df = df.replace(',','.',regex=True)\n",
    "    df = df.astype('float')\n",
    "    return df"
   ]
  },
  {
   "cell_type": "markdown",
   "metadata": {},
   "source": [
    "### Tests"
   ]
  },
  {
   "cell_type": "code",
   "execution_count": 112,
   "metadata": {},
   "outputs": [],
   "source": [
    "import unittest\n",
    "\n",
    "class Session3Tests(unittest.TestCase):\n",
    "    def test_df_names_us(self):\n",
    "        df = df_names_us()\n",
    "        # colonnes\n",
    "        self.assertEqual(list(df.columns), [\"year\", \"name\", \"gender\", \"births\"])\n",
    "        # lignes\n",
    "        self.assertEqual(len(df), 2052781)\n",
    "        # index\n",
    "        self.assertTrue(isinstance(df.index, pd.core.indexes.range.RangeIndex))\n",
    "        # test NaN\n",
    "        self.assertTrue(df.loc[df.isnull().any(axis=1)].empty)\n",
    "        \n",
    "    def test_df_names_fr(self):\n",
    "        df = df_names_fr()\n",
    "        # colonnes\n",
    "        self.assertEqual(list(df.columns), [\"year\", \"name\", \"gender\", \"births\"])\n",
    "        # lignes\n",
    "        self.assertEqual(len(df), 648329)\n",
    "        # index\n",
    "        self.assertTrue(isinstance(df.index, pd.RangeIndex))\n",
    "        # test names\n",
    "        self.assertTrue(df.loc[df.name.str.contains(r\"^[A-Z]+$\")].empty)\n",
    "        self.assertTrue(df.loc[df.name.str.contains(r\"-[a-z]+$\")].empty)\n",
    "        # test gender\n",
    "        self.assertEqual(len(df), len(df.loc[df.gender==\"F\"]) + len(df.loc[df.gender=='M']))\n",
    "        # test NaN\n",
    "        self.assertTrue(df.loc[df.isnull().any(axis=1)].empty)\n",
    "\n",
    "    def test_df_taux_change(self):\n",
    "        df = df_taux_change([\"CHF\", \"GBP\", \"USD\"])\n",
    "        # colonnes\n",
    "        self.assertEqual(list(df.columns), [\"CHF\", \"GBP\", \"USD\"])\n",
    "        # index\n",
    "        self.assertTrue(isinstance(df.index, pd.DatetimeIndex))\n",
    "        # index trié\n",
    "        self.assertEqual(list(df.index.argsort()), list(range(len(df))))\n",
    "        # types taux\n",
    "        self.assertTrue((df.dtypes == float).all())\n",
    "        # test NaN\n",
    "        self.assertTrue(df.loc[df.isnull().any(axis=1)].empty)"
   ]
  },
  {
   "cell_type": "code",
   "execution_count": 113,
   "metadata": {},
   "outputs": [],
   "source": [
    "# run tests\n",
    "def run_tests():\n",
    "    test_suite = unittest.makeSuite(Session3Tests)\n",
    "    runner = unittest.TextTestRunner(verbosity=2)\n",
    "    runner.run(test_suite)"
   ]
  },
  {
   "cell_type": "code",
   "execution_count": 114,
   "metadata": {},
   "outputs": [
    {
     "name": "stderr",
     "output_type": "stream",
     "text": [
      "test_df_names_fr (__main__.Session3Tests) ... ok\n",
      "test_df_names_us (__main__.Session3Tests) ... ok\n",
      "test_df_taux_change (__main__.Session3Tests) ... ok\n",
      "\n",
      "----------------------------------------------------------------------\n",
      "Ran 3 tests in 4.668s\n",
      "\n",
      "OK\n"
     ]
    }
   ],
   "source": [
    "# run tests\n",
    "run_tests()"
   ]
  },
  {
   "cell_type": "code",
   "execution_count": null,
   "metadata": {},
   "outputs": [],
   "source": []
  }
 ],
 "metadata": {
  "kernelspec": {
   "display_name": "Python 3 (ipykernel)",
   "language": "python",
   "name": "python3"
  },
  "language_info": {
   "codemirror_mode": {
    "name": "ipython",
    "version": 3
   },
   "file_extension": ".py",
   "mimetype": "text/x-python",
   "name": "python",
   "nbconvert_exporter": "python",
   "pygments_lexer": "ipython3",
   "version": "3.9.12"
  }
 },
 "nbformat": 4,
 "nbformat_minor": 4
}
